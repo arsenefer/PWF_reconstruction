{
 "cells": [
  {
   "cell_type": "markdown",
   "metadata": {},
   "source": [
    "# Using PWF_reconstruction"
   ]
  },
  {
   "cell_type": "code",
   "execution_count": 1,
   "metadata": {},
   "outputs": [],
   "source": [
    "import numpy as np\n",
    "import matplotlib.pyplot as plt\n",
    "from PWF_reconstruction.recons_PWF import PWF_semianalytical, cov_matrix"
   ]
  },
  {
   "cell_type": "markdown",
   "metadata": {},
   "source": [
    "We will use a dummy event to illustrate the package."
   ]
  },
  {
   "cell_type": "code",
   "execution_count": 2,
   "metadata": {},
   "outputs": [],
   "source": [
    "x_ants = np.array([[6062., 3499.99975586, 1025.68994141],\n",
    "                   [8660., -2000.00024414, 981.16998291],\n",
    "                   [6928., -1000.00024414, 991.2800293],\n",
    "                   [8660., -1000.00024414, 961.09997559],\n",
    "                   [7794., -500.00036621, 975.90997314],\n",
    "                   [7794., 499.99975586, 988.53997803],\n",
    "                   [6928., 999.99975586, 982.96002197],\n",
    "                   [6928., 1999.99975586, 994.59997559],\n",
    "                   [6062., 2499.99975586, 998.46002197]])\n",
    "t_ants = np.array([-8.41008848e-06, 1.11909904e-05, 6.03631933e-06, 8.25434167e-06, 5.65372435e-06, 2.69038597e-06, 7.60043411e-08, -2.87709951e-06,-5.44485484e-06])\n",
    "k = np.array([ 0.38488077, -0.88474286, -0.26286282]) \n",
    "theta, phi = 74.76, 113.51"
   ]
  },
  {
   "cell_type": "markdown",
   "metadata": {},
   "source": [
    "We can run a reconstruction on this event. We see that the prediction is close to the target values : $\\theta= 74.76$° and $\\phi = 113.51$°."
   ]
  },
  {
   "cell_type": "code",
   "execution_count": 3,
   "metadata": {},
   "outputs": [
    {
     "name": "stdout",
     "output_type": "stream",
     "text": [
      "θ_pred = 74.96 °\n",
      "ϕ_pred = 113.17 °\n"
     ]
    }
   ],
   "source": [
    "theta_pred, phi_pred = PWF_semianalytical(x_ants, t_ants)\n",
    "print('θ_pred =', np.round(theta_pred*180/np.pi, 2), '°')\n",
    "print(\"ϕ_pred =\", np.round(phi_pred*180/np.pi, 2), '°')"
   ]
  },
  {
   "cell_type": "markdown",
   "metadata": {},
   "source": [
    "## Estimating the uncertainty on $\\theta$ and $\\phi$"
   ]
  },
  {
   "cell_type": "markdown",
   "metadata": {},
   "source": [
    "With that prediction, we can estimate the covariance of our estimator. This matrix describe how the estimator is distributed."
   ]
  },
  {
   "cell_type": "markdown",
   "metadata": {},
   "source": [
    "We have to estimate the noise on the antenna timing measurements."
   ]
  },
  {
   "cell_type": "code",
   "execution_count": 4,
   "metadata": {},
   "outputs": [],
   "source": [
    "sigma = np.sqrt(1.51e-8**2 + 1e-8**2)"
   ]
  },
  {
   "cell_type": "code",
   "execution_count": 5,
   "metadata": {},
   "outputs": [
    {
     "name": "stdout",
     "output_type": "stream",
     "text": [
      "<class 'numpy.float64'>\n"
     ]
    },
    {
     "ename": "TypeError",
     "evalue": "Bad type for sigma",
     "output_type": "error",
     "traceback": [
      "\u001b[0;31m---------------------------------------------------------------------------\u001b[0m",
      "\u001b[0;31mTypeError\u001b[0m                                 Traceback (most recent call last)",
      "Cell \u001b[0;32mIn[5], line 1\u001b[0m\n\u001b[0;32m----> 1\u001b[0m Sigma \u001b[38;5;241m=\u001b[39m \u001b[43mcov_matrix\u001b[49m\u001b[43m(\u001b[49m\u001b[43mtheta_pred\u001b[49m\u001b[43m,\u001b[49m\u001b[43m \u001b[49m\u001b[43mphi_pred\u001b[49m\u001b[43m,\u001b[49m\u001b[43m \u001b[49m\u001b[43mx_ants\u001b[49m\u001b[43m,\u001b[49m\u001b[43m \u001b[49m\u001b[43msigma\u001b[49m\u001b[43m)\u001b[49m\n\u001b[1;32m      2\u001b[0m \u001b[38;5;28mprint\u001b[39m(Sigma)\n",
      "File \u001b[0;32m~/Documents/WorkingDir/PWF_reconstruction/PWF_reconstruction/recons_PWF.py:209\u001b[0m, in \u001b[0;36mcov_matrix\u001b[0;34m(theta_pred, phi_pred, Xants, sigma, c, n)\u001b[0m\n\u001b[1;32m    194\u001b[0m \u001b[38;5;28;01mdef\u001b[39;00m \u001b[38;5;21mcov_matrix\u001b[39m(theta_pred, phi_pred, Xants, sigma, c\u001b[38;5;241m=\u001b[39mc_light, n\u001b[38;5;241m=\u001b[39mn_atm):\n\u001b[1;32m    195\u001b[0m \u001b[38;5;250m    \u001b[39m\u001b[38;5;124;03m\"\"\"\u001b[39;00m\n\u001b[1;32m    196\u001b[0m \u001b[38;5;124;03m    Wrapper for Covariance_schurcomplement function.\u001b[39;00m\n\u001b[1;32m    197\u001b[0m \n\u001b[0;32m   (...)\u001b[0m\n\u001b[1;32m    207\u001b[0m \u001b[38;5;124;03m    ndarray: Covariance matrix of theta and phi in radians^2, shape (2, 2).\u001b[39;00m\n\u001b[1;32m    208\u001b[0m \u001b[38;5;124;03m    \"\"\"\u001b[39;00m\n\u001b[0;32m--> 209\u001b[0m     \u001b[38;5;28;01mreturn\u001b[39;00m \u001b[43mCovariance_schurcomplement\u001b[49m\u001b[43m(\u001b[49m\u001b[43mtheta_pred\u001b[49m\u001b[43m,\u001b[49m\u001b[43m \u001b[49m\u001b[43mphi_pred\u001b[49m\u001b[43m,\u001b[49m\u001b[43m \u001b[49m\u001b[43mXants\u001b[49m\u001b[43m,\u001b[49m\u001b[43m \u001b[49m\u001b[43msigma\u001b[49m\u001b[43m,\u001b[49m\u001b[43m \u001b[49m\u001b[43mc\u001b[49m\u001b[38;5;241;43m=\u001b[39;49m\u001b[43mc\u001b[49m\u001b[43m,\u001b[49m\u001b[43m \u001b[49m\u001b[43mn\u001b[49m\u001b[38;5;241;43m=\u001b[39;49m\u001b[43mn\u001b[49m\u001b[43m)\u001b[49m\n",
      "File \u001b[0;32m~/Documents/WorkingDir/PWF_reconstruction/PWF_reconstruction/recons_PWF.py:190\u001b[0m, in \u001b[0;36mCovariance_schurcomplement\u001b[0;34m(theta_pred, phi_pred, Xants, sigma, c, n)\u001b[0m\n\u001b[1;32m    184\u001b[0m B \u001b[38;5;241m=\u001b[39m np\u001b[38;5;241m.\u001b[39marray([\n\u001b[1;32m    185\u001b[0m     [\u001b[38;5;241m-\u001b[39mnp\u001b[38;5;241m.\u001b[39mcos(theta_pred)\u001b[38;5;241m*\u001b[39mnp\u001b[38;5;241m.\u001b[39mcos(phi_pred), np\u001b[38;5;241m.\u001b[39msin(theta_pred)\u001b[38;5;241m*\u001b[39mnp\u001b[38;5;241m.\u001b[39msin(phi_pred)],\n\u001b[1;32m    186\u001b[0m     [\u001b[38;5;241m-\u001b[39mnp\u001b[38;5;241m.\u001b[39mcos(theta_pred)\u001b[38;5;241m*\u001b[39mnp\u001b[38;5;241m.\u001b[39msin(phi_pred), \u001b[38;5;241m-\u001b[39mnp\u001b[38;5;241m.\u001b[39msin(theta_pred)\u001b[38;5;241m*\u001b[39mnp\u001b[38;5;241m.\u001b[39mcos(phi_pred)],\n\u001b[1;32m    187\u001b[0m     [np\u001b[38;5;241m.\u001b[39msin(theta_pred), \u001b[38;5;241m0\u001b[39m]\n\u001b[1;32m    188\u001b[0m ])\n\u001b[1;32m    189\u001b[0m \u001b[38;5;28mprint\u001b[39m(\u001b[38;5;28mtype\u001b[39m(sigma))\n\u001b[0;32m--> 190\u001b[0m Xants_cor \u001b[38;5;241m=\u001b[39m (Xants \u001b[38;5;241m-\u001b[39m \u001b[43mmean\u001b[49m\u001b[43m(\u001b[49m\u001b[43mXants\u001b[49m\u001b[43m,\u001b[49m\u001b[43m \u001b[49m\u001b[43msigma\u001b[49m\u001b[43m)\u001b[49m[\u001b[38;5;28;01mNone\u001b[39;00m, :]) \u001b[38;5;241m/\u001b[39m (c \u001b[38;5;241m/\u001b[39m np\u001b[38;5;241m.\u001b[39marray(n)\u001b[38;5;241m.\u001b[39mreshape(\u001b[38;5;241m-\u001b[39m\u001b[38;5;241m1\u001b[39m, \u001b[38;5;241m1\u001b[39m))\n\u001b[1;32m    191\u001b[0m \u001b[38;5;28;01mreturn\u001b[39;00m np\u001b[38;5;241m.\u001b[39mlinalg\u001b[38;5;241m.\u001b[39mpinv(B\u001b[38;5;241m.\u001b[39mT \u001b[38;5;241m@\u001b[39m Xants_cor\u001b[38;5;241m.\u001b[39mT \u001b[38;5;241m@\u001b[39m Xants_cor \u001b[38;5;241m@\u001b[39m B) \u001b[38;5;241m*\u001b[39m (sigma\u001b[38;5;241m*\u001b[39m\u001b[38;5;241m*\u001b[39m\u001b[38;5;241m2\u001b[39m)\n",
      "File \u001b[0;32m~/Documents/WorkingDir/PWF_reconstruction/PWF_reconstruction/utils.py:124\u001b[0m, in \u001b[0;36mmean\u001b[0;34m(X, sigma)\u001b[0m\n\u001b[1;32m    122\u001b[0m     \u001b[38;5;28;01mreturn\u001b[39;00m ( \u001b[38;5;241m1\u001b[39m\u001b[38;5;241m/\u001b[39mQ_1\u001b[38;5;241m.\u001b[39msum() ) \u001b[38;5;241m*\u001b[39m ( Q_1\u001b[38;5;241m.\u001b[39msum(axis\u001b[38;5;241m=\u001b[39m\u001b[38;5;241m0\u001b[39m) \u001b[38;5;241m@\u001b[39m X )\n\u001b[1;32m    123\u001b[0m \u001b[38;5;28;01melse\u001b[39;00m:\n\u001b[0;32m--> 124\u001b[0m     \u001b[38;5;28;01mraise\u001b[39;00m \u001b[38;5;167;01mTypeError\u001b[39;00m(\u001b[38;5;124m\"\u001b[39m\u001b[38;5;124mBad type for sigma\u001b[39m\u001b[38;5;124m\"\u001b[39m)\n",
      "\u001b[0;31mTypeError\u001b[0m: Bad type for sigma"
     ]
    }
   ],
   "source": [
    "Sigma = cov_matrix(theta_pred, phi_pred, x_ants, sigma)\n",
    "print(Sigma)"
   ]
  },
  {
   "cell_type": "markdown",
   "metadata": {},
   "source": [
    "We can visualise this distribution with the `plot_distribs` function in `visualisation`"
   ]
  },
  {
   "cell_type": "code",
   "execution_count": null,
   "metadata": {},
   "outputs": [],
   "source": [
    "from PWF_reconstruction.visualisation import plot_distribs"
   ]
  },
  {
   "cell_type": "code",
   "execution_count": null,
   "metadata": {},
   "outputs": [],
   "source": [
    "plot_distribs(np.array([]), np.array([]), Sigma, theta_pred, phi/180*np.pi, theta/180*np.pi, phi_pred)"
   ]
  }
 ],
 "metadata": {
  "kernelspec": {
   "display_name": "Python 3 (ipykernel)",
   "language": "python",
   "name": "python3"
  },
  "language_info": {
   "codemirror_mode": {
    "name": "ipython",
    "version": 3
   },
   "file_extension": ".py",
   "mimetype": "text/x-python",
   "name": "python",
   "nbconvert_exporter": "python",
   "pygments_lexer": "ipython3",
   "version": "3.11.5"
  }
 },
 "nbformat": 4,
 "nbformat_minor": 4
}
